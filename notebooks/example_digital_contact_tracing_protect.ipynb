{
 "cells": [
  {
   "cell_type": "markdown",
   "metadata": {},
   "source": [
    "# OpenABM-Covid19 - Example Digital Contact-Tracing Protection Calculation\n",
    "\n",
    "This examples demonstrates the effect of digital contact-tracing following testing (same as Example Digital Contact-Tracing) and shows the protection gained by users of the system. Digital contract tracing is turned on following the end of a lockdown period and moderate social-distancing measures are added (20% reduction in transmission for occupation and random interactions).\n",
    "\n",
    "First we set the baseline parameters: change the population to 200k (`n_total=200000`); the test sensitivity to 90% (`test_sensitivity=0.9`); and the fraction of app users to be 60% in the 10y-69y age groups (`app_useres_fraction_10_19=0.6` etc.) and 30% in the over 70s. At the start of the simulation there is no self-isolation and we run the simulation for 15 days."
   ]
  },
  {
   "cell_type": "code",
   "execution_count": 1,
   "metadata": {},
   "outputs": [],
   "source": [
    "import pandas as pd\n",
    "import matplotlib.pyplot as plt\n",
    "import sys\n",
    "from COVID19.model import Model as abm\n",
    "\n",
    "params = {\n",
    "    \"n_total\" : 200000,\n",
    "    \"test_sensitivity\" : 0.9,\n",
    "    \"app_users_fraction_0_9\" : 0,\n",
    "    \"app_users_fraction_10_19\" : 0.6,\n",
    "    \"app_users_fraction_20_29\" : 0.6,\n",
    "    \"app_users_fraction_30_39\" : 0.6,\n",
    "    \"app_users_fraction_40_49\" : 0.6,\n",
    "    \"app_users_fraction_50_59\" : 0.6,\n",
    "    \"app_users_fraction_60_69\" : 0.6,\n",
    "    \"app_users_fraction_70_79\" : 0.3,\n",
    "    \"app_users_fraction_80\" : 0.3\n",
    "}\n",
    "model = abm( params = params)\n",
    "for t in range(30):\n",
    "    model.one_time_step()"
   ]
  },
  {
   "cell_type": "markdown",
   "metadata": {},
   "source": [
    "After 30 days we implement a general lockdown (default parameters) and also introducing self-isolation of (80%) of individuals showing symptoms and their households."
   ]
  },
  {
   "cell_type": "code",
   "execution_count": 2,
   "metadata": {},
   "outputs": [],
   "source": [
    "model.update_running_params(\"lockdown_on\", 1)\n",
    "model.update_running_params(\"self_quarantine_fraction\", 0.8 )\n",
    "model.update_running_params(\"quarantine_household_on_symptoms\", 1)\n",
    "for t in range(30):\n",
    "    model.one_time_step()"
   ]
  },
  {
   "cell_type": "markdown",
   "metadata": {},
   "source": [
    "Following the lockdown we introduce digital contact tracing (`app_turned_on=1`). We use the set up that symptomatic individuals who are self-isolating get tests (`test_on_symptoms=1`), tracing occurs following a positive test (`trace_on_positive=1`) with those traced being asked to quarantine (`quarantine_on_traced=1`) and their household members also being asked to quarantined (`quarantine_household_on_traced_positive=1`). Social-distancing measures reduce the transmission rate by 20% in occupation and random interactions (`relative_transmission_occupation=0.8` etc.). We then the the simulation for another 50 days."
   ]
  },
  {
   "cell_type": "code",
   "execution_count": 3,
   "metadata": {},
   "outputs": [],
   "source": [
    "model.update_running_params(\"lockdown_on\", 0)\n",
    "model.update_running_params(\"app_turned_on\", 1 )\n",
    "model.update_running_params(\"test_on_symptoms\", 1)\n",
    "model.update_running_params(\"test_order_wait\", 0 )\n",
    "model.update_running_params(\"test_result_wait\", 1 )\n",
    "model.update_running_params(\"trace_on_positive\", 1)\n",
    "model.update_running_params(\"quarantine_on_traced\", 1)\n",
    "model.update_running_params(\"quarantine_household_on_traced_positive\", 1 )\n",
    "model.update_running_params(\"relative_transmission_occupation\", 0.8 )\n",
    "model.update_running_params(\"relative_transmission_random\", 0.8)\n",
    "for t in range(50):\n",
    "    model.one_time_step()"
   ]
  },
  {
   "cell_type": "markdown",
   "metadata": {},
   "source": [
    "Now we write all the transmissions from the model and all the individuals characteristic's to file and load to dataframes."
   ]
  },
  {
   "cell_type": "code",
   "execution_count": 4,
   "metadata": {},
   "outputs": [],
   "source": [
    "model.write_transmissions()\n",
    "model.write_individual_file()\n",
    "df_transmission = pd.read_csv( \"transmission_Run1.csv\", comment=\"#\", sep=\",\", skipinitialspace=True )\n",
    "df_indiv = pd.read_csv(\"individual_file_Run1.csv\", comment=\"#\", sep=\",\", skipinitialspace=True )"
   ]
  },
  {
   "cell_type": "markdown",
   "metadata": {},
   "source": [
    "Finally we look at the number of infections (post DCT starting) by age group and for app users versus non app users and calculate the relative risk of infection. The simulation shows that app users are about 9% less likely to be infected than non-app users."
   ]
  },
  {
   "cell_type": "code",
   "execution_count": 5,
   "metadata": {},
   "outputs": [
    {
     "name": "stdout",
     "output_type": "stream",
     "text": [
      "App user protection = 8.7%"
     ]
    },
    {
     "data": {
      "text/html": [
       "<div>\n",
       "<style scoped>\n",
       "    .dataframe tbody tr th:only-of-type {\n",
       "        vertical-align: middle;\n",
       "    }\n",
       "\n",
       "    .dataframe tbody tr th {\n",
       "        vertical-align: top;\n",
       "    }\n",
       "\n",
       "    .dataframe thead th {\n",
       "        text-align: right;\n",
       "    }\n",
       "</style>\n",
       "<table border=\"1\" class=\"dataframe\">\n",
       "  <thead>\n",
       "    <tr style=\"text-align: right;\">\n",
       "      <th>app_user</th>\n",
       "      <th>age_group</th>\n",
       "      <th>protection</th>\n",
       "    </tr>\n",
       "  </thead>\n",
       "  <tbody>\n",
       "    <tr>\n",
       "      <th>0</th>\n",
       "      <td>0</td>\n",
       "      <td>NaN</td>\n",
       "    </tr>\n",
       "    <tr>\n",
       "      <th>1</th>\n",
       "      <td>1</td>\n",
       "      <td>0.082820</td>\n",
       "    </tr>\n",
       "    <tr>\n",
       "      <th>2</th>\n",
       "      <td>2</td>\n",
       "      <td>0.092547</td>\n",
       "    </tr>\n",
       "    <tr>\n",
       "      <th>3</th>\n",
       "      <td>3</td>\n",
       "      <td>0.043949</td>\n",
       "    </tr>\n",
       "    <tr>\n",
       "      <th>4</th>\n",
       "      <td>4</td>\n",
       "      <td>0.100965</td>\n",
       "    </tr>\n",
       "    <tr>\n",
       "      <th>5</th>\n",
       "      <td>5</td>\n",
       "      <td>0.031993</td>\n",
       "    </tr>\n",
       "    <tr>\n",
       "      <th>6</th>\n",
       "      <td>6</td>\n",
       "      <td>0.116402</td>\n",
       "    </tr>\n",
       "    <tr>\n",
       "      <th>7</th>\n",
       "      <td>7</td>\n",
       "      <td>0.181672</td>\n",
       "    </tr>\n",
       "    <tr>\n",
       "      <th>8</th>\n",
       "      <td>8</td>\n",
       "      <td>0.044974</td>\n",
       "    </tr>\n",
       "  </tbody>\n",
       "</table>\n",
       "</div>"
      ],
      "text/plain": [
       "app_user  age_group  protection\n",
       "0                 0         NaN\n",
       "1                 1    0.082820\n",
       "2                 2    0.092547\n",
       "3                 3    0.043949\n",
       "4                 4    0.100965\n",
       "5                 5    0.031993\n",
       "6                 6    0.116402\n",
       "7                 7    0.181672\n",
       "8                 8    0.044974"
      ]
     },
     "execution_count": 5,
     "metadata": {},
     "output_type": "execute_result"
    }
   ],
   "source": [
    "df_trans_post = df_transmission[ df_transmission[ \"time_infected\" ] > 60 ].loc[ :,{\"ID_recipient\"}]\n",
    "df_trans_post[ \"infected\" ] = 1 \n",
    "df = pd.merge( df_indiv, df_trans_post, left_on = \"ID\", right_on = \"ID_recipient\", how = \"left\")\n",
    "df.fillna(0)\n",
    "df[ \"total\" ] = 1\n",
    "df = df.groupby( [\"age_group\", \"app_user\"] ).agg({ \"infected\": \"sum\", \"total\": \"count\"}).reset_index()\n",
    "df[ \"infected_fraction\"] = df[\"infected\"] / df[\"total\"]\n",
    "df = df.pivot_table( index =[\"age_group\"], columns = \"app_user\", values = \"infected_fraction\").reset_index()\n",
    "df[ \"protection\"] = 1 - df[1]/ df[0]\n",
    "sys.stdout.write( \"App user protection = %.1f%%\" % ( 100 * df[ df[\"age_group\"] > 0 ][\"protection\"].mean()) )\n",
    "df.loc[ :,{\"age_group\", \"protection\"}]"
   ]
  },
  {
   "cell_type": "code",
   "execution_count": null,
   "metadata": {
    "hide_input": true
   },
   "outputs": [],
   "source": []
  }
 ],
 "metadata": {
  "kernelspec": {
   "display_name": "Python 3",
   "language": "python",
   "name": "python3"
  },
  "language_info": {
   "codemirror_mode": {
    "name": "ipython",
    "version": 3
   },
   "file_extension": ".py",
   "mimetype": "text/x-python",
   "name": "python",
   "nbconvert_exporter": "python",
   "pygments_lexer": "ipython3",
   "version": "3.8.3"
  }
 },
 "nbformat": 4,
 "nbformat_minor": 4
}
