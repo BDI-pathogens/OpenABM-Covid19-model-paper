{
 "cells": [
  {
   "cell_type": "markdown",
   "metadata": {},
   "source": [
    "# OpenABM-Covid19 - Example Self-Isolation After Testing\n",
    "\n",
    "This examples demonstrates the importance of quick testing if self-isolation only occurs following a positive test.\n",
    "\n",
    "First we set the baseline parameters: change the population to 50k (`n_total=50000`); turn off self-quarantining on symptoms (`quarantine_length_self=0`); set the length and daily drop-out rate of quarantining following a positive test (`quarantine_length_positive=14` and `quarantine_dropout_positive=0.02`); and set the test sensitivity to 90% (`test_sensitivity=0.9`). At the start of the simulation there is no self-isolation and we run the simulation for 15 days."
   ]
  },
  {
   "cell_type": "code",
   "execution_count": 1,
   "metadata": {},
   "outputs": [],
   "source": [
    "import example_utils as utils\n",
    "import pandas as pd\n",
    "import matplotlib.pyplot as plt\n",
    "\n",
    "params = utils.get_baseline_parameters()\n",
    "params.set_param( \"n_total\", 50000 )\n",
    "params.set_param( \"quarantine_length_self\", 0 )\n",
    "params.set_param( \"quarantine_length_positive\", 14 )\n",
    "params.set_param( \"quarantine_dropout_positive\", 0.02 )\n",
    "params.set_param( \"test_sensitivity\", 0.9 )\n",
    "sim   = utils.get_simulation( params )\n",
    "model = sim.env.model\n",
    "sim.steps( 15 )"
   ]
  },
  {
   "cell_type": "markdown",
   "metadata": {},
   "source": [
    "After 15 days we turn on interventions for those with symptoms. Setting `self_quarantine_fraction=0.8` means that 80% of the those with symptoms enter the intervention cascade (by default this would mean self-isolation, but setting `quarantine_length_self=0` means there is no initial self-isolation). A test is ordered (`test_on_symptoms=1`) immediately (`test_order_wait=0`) and a result comes back after 24hrs (`test_result_wait=1`) . If the result is positive then the individual and their household quarantines and the simulation is run for 25 days."
   ]
  },
  {
   "cell_type": "code",
   "execution_count": 2,
   "metadata": {},
   "outputs": [],
   "source": [
    "model.update_running_params(\"self_quarantine_fraction\", 0.8 )\n",
    "model.update_running_params(\"quarantine_household_on_positive\", 1)\n",
    "model.update_running_params(\"test_on_symptoms\", 1)\n",
    "model.update_running_params( \"test_order_wait\", 0 )\n",
    "model.update_running_params( \"test_result_wait\", 1 )\n",
    "sim.steps( 25 )\n",
    "\n",
    "timeseries = pd.DataFrame( sim.results )"
   ]
  },
  {
   "cell_type": "markdown",
   "metadata": {},
   "source": [
    "We now re-run the simulation but with slower testing, including a 1 day wait for the test to be done and a 3 day wait for the test result."
   ]
  },
  {
   "cell_type": "code",
   "execution_count": 3,
   "metadata": {},
   "outputs": [],
   "source": [
    "del( model ); del( sim );\n",
    "params = utils.get_baseline_parameters()\n",
    "params.set_param( \"n_total\", 50000 )\n",
    "params.set_param( \"quarantine_length_self\", 0 )\n",
    "params.set_param( \"quarantine_length_positive\", 14 )\n",
    "params.set_param( \"quarantine_dropout_positive\", 0.02 )\n",
    "params.set_param( \"test_sensitivity\", 0.9 )\n",
    "sim   = utils.get_simulation( params )\n",
    "model = sim.env.model\n",
    "sim.steps( 15 )\n",
    "\n",
    "model.update_running_params(\"self_quarantine_fraction\", 0.8 )\n",
    "model.update_running_params(\"test_on_symptoms\", 1)\n",
    "model.update_running_params( \"test_order_wait\", 1 )\n",
    "model.update_running_params( \"test_result_wait\", 3 )\n",
    "model.update_running_params(\"quarantine_household_on_positive\", 1)\n",
    "sim.steps( 25 )"
   ]
  },
  {
   "cell_type": "markdown",
   "metadata": {},
   "source": [
    "Plot the number of daily new infections over the course of the simulation and compare between quick and slow testing."
   ]
  },
  {
   "cell_type": "code",
   "execution_count": 6,
   "metadata": {},
   "outputs": [
    {
     "data": {
      "text/plain": [
       "<matplotlib.axes._subplots.AxesSubplot at 0x119d42fd0>"
      ]
     },
     "execution_count": 6,
     "metadata": {},
     "output_type": "execute_result"
    },
    {
     "data": {
      "image/png": "[encoded data removed]",
      "text/plain": [
       "<Figure size 432x288 with 2 Axes>"
      ]
     },
     "metadata": {
      "needs_background": "light"
     },
     "output_type": "display_data"
    }
   ],
   "source": [
    "timeseries2 = pd.DataFrame( sim.results )\n",
    "timeseries[\"daily_infected\"] = timeseries[\"total_infected\"].diff(1)\n",
    "timeseries2[\"daily_infected_slow\"] = timeseries2[\"total_infected\"].diff(1)\n",
    "df = pd.merge( timeseries, timeseries2, on = \"time\")\n",
    "df[\"self_isolate\"] = timeseries.apply(lambda X: 1 if ( X.time >15) & ( X.time <= 40 ) else 0, axis=1)\n",
    "\n",
    "plt.figure()\n",
    "df.daily_infected.plot( x = \"time\", legend = True, label = \"Daily Infected (24 hour testing)\" )\n",
    "df.daily_infected_slow.plot( x = \"time\", legend = True, label = \"Daily Infected (96 hour testing)\" )\n",
    "df.self_isolate.plot( x = \"time\", legend = \"True\", secondary_y = True, label = \"Self-Isolation\" )"
   ]
  },
  {
   "cell_type": "code",
   "execution_count": null,
   "metadata": {
    "hide_input": true
   },
   "outputs": [],
   "source": []
  }
 ],
 "metadata": {
  "kernelspec": {
   "display_name": "Python 3",
   "language": "python",
   "name": "python3"
  },
  "language_info": {
   "codemirror_mode": {
    "name": "ipython",
    "version": 3
   },
   "file_extension": ".py",
   "mimetype": "text/x-python",
   "name": "python",
   "nbconvert_exporter": "python",
   "pygments_lexer": "ipython3",
   "version": "3.7.7"
  }
 },
 "nbformat": 4,
 "nbformat_minor": 4
}
